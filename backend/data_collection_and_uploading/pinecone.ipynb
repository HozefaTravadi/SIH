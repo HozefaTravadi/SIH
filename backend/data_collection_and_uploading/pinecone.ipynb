{
 "cells": [
  {
   "cell_type": "code",
   "execution_count": null,
   "metadata": {},
   "outputs": [],
   "source": [
    "import pandas as pd\n",
    "import numpy as np\n",
    "import pickle \n",
    "import os"
   ]
  },
  {
   "cell_type": "code",
   "execution_count": null,
   "metadata": {},
   "outputs": [
    {
     "name": "stdout",
     "output_type": "stream",
     "text": [
      "0        JAN JAGRAN TIMES\n",
      "1        JAGRAN CITY PLUS\n",
      "2         SAMPURNA JAGRAN\n",
      "3           DAINIK JAGRAN\n",
      "4           VISHWA JAGRAN\n",
      "               ...       \n",
      "21394        KAIWART AWAZ\n",
      "21395     SARBAHARAR AWAZ\n",
      "21396      SHRAMIKER AWAZ\n",
      "21397          SOBAR AWAZ\n",
      "21398        AWAZ AAP TAK\n",
      "Name: Title Name, Length: 10790, dtype: object\n"
     ]
    }
   ],
   "source": [
    "\n",
    "# Step 1: Open the file in read-binary mode\n",
    "with open('data.pkl', 'rb') as file:\n",
    "    # Step 2: Load the data from the file\n",
    "    data = pickle.load(file)\n",
    "\n",
    "# Now, `data` contains the deserialized Python object\n",
    "print(data)\n"
   ]
  },
  {
   "cell_type": "code",
   "execution_count": null,
   "metadata": {},
   "outputs": [
    {
     "name": "stdout",
     "output_type": "stream",
     "text": [
      "0        jan jagran times\n",
      "1        jagran city plus\n",
      "2         sampurna jagran\n",
      "3           dainik jagran\n",
      "4           vishwa jagran\n",
      "               ...       \n",
      "21394        kaiwart awaz\n",
      "21395     sarbaharar awaz\n",
      "21396      shramiker awaz\n",
      "21397          sobar awaz\n",
      "21398        awaz aap tak\n",
      "Name: Title Name, Length: 10790, dtype: object\n"
     ]
    }
   ],
   "source": [
    "data = data.str.lower()\n",
    "print(data)"
   ]
  },
  {
   "cell_type": "code",
   "execution_count": null,
   "metadata": {},
   "outputs": [],
   "source": [
    "data = pd.DataFrame(data)\n",
    "data = data.drop_duplicates().dropna()"
   ]
  },
  {
   "cell_type": "code",
   "execution_count": null,
   "metadata": {},
   "outputs": [
    {
     "data": {
      "text/plain": [
       "(10790, 1)"
      ]
     },
     "execution_count": 24,
     "metadata": {},
     "output_type": "execute_result"
    }
   ],
   "source": [
    "data.shape"
   ]
  },
  {
   "cell_type": "code",
   "execution_count": null,
   "metadata": {},
   "outputs": [],
   "source": [
    "data.rename(columns={'Title Name': 'title'}, inplace=True)\n"
   ]
  },
  {
   "cell_type": "code",
   "execution_count": null,
   "metadata": {},
   "outputs": [],
   "source": [
    "from langchain.text_splitter import RecursiveCharacterTextSplitter\n",
    "from langchain.schema import Document  # Import Document class\n",
    "\n",
    "# Initialize the text splitter\n",
    "text_splitter = RecursiveCharacterTextSplitter(chunk_size=500, chunk_overlap=50)\n",
    "\n",
    "# Assuming your DataFrame `data` has a column 'title' containing the titles or documents\n",
    "# Create a list of Document objects\n",
    "documents = [Document(page_content=row['title']) for index, row in data.iterrows()]\n",
    "\n",
    "# Split the documents\n",
    "split_docs = text_splitter.split_documents(documents)"
   ]
  },
  {
   "cell_type": "code",
   "execution_count": null,
   "metadata": {},
   "outputs": [],
   "source": [
    "# Extract content from split_docs\n",
    "texts = [doc.page_content for doc in split_docs]\n"
   ]
  },
  {
   "cell_type": "code",
   "execution_count": null,
   "metadata": {},
   "outputs": [],
   "source": [
    "from langchain_ollama.embeddings import OllamaEmbeddings\n",
    "embeddings = OllamaEmbeddings(model =\"llama3.2\" )"
   ]
  },
  {
   "cell_type": "code",
   "execution_count": null,
   "metadata": {},
   "outputs": [
    {
     "name": "stdout",
     "output_type": "stream",
     "text": [
      "3072\n"
     ]
    }
   ],
   "source": [
    "res = embeddings.embed_query(\"The Jagran Times\")\n",
    "print(len(res)) # checking the dimension of the embeddings so that the pinecone vector db can be configured accordingly "
   ]
  },
  {
   "cell_type": "code",
   "execution_count": null,
   "metadata": {},
   "outputs": [],
   "source": [
    "from dotenv import load_dotenv\n",
    "load_dotenv()\n",
    "import os\n",
    "api_key = os.getenv(\"PINECONE_API_KEY\")"
   ]
  },
  {
   "cell_type": "code",
   "execution_count": null,
   "metadata": {},
   "outputs": [],
   "source": [
    "from pinecone import Pinecone, ServerlessSpec\n",
    "index_name = \"llama\"\n",
    "pc = Pinecone(api_key=api_key)\n",
    "index = pc.Index(index_name)\n",
    "# Setting up the pinecone index the index name in this case is llama "
   ]
  },
  {
   "cell_type": "code",
   "execution_count": null,
   "metadata": {},
   "outputs": [
    {
     "name": "stderr",
     "output_type": "stream",
     "text": [
      "100%|██████████| 10790/10790 [00:00<00:00, 27940.79it/s]\n"
     ]
    }
   ],
   "source": [
    "import nltk\n",
    "from pinecone_text.sparse import BM25Encoder\n",
    "\n",
    "\n",
    "\n",
    "# Initialize the BM25 encoder\n",
    "encoder = BM25Encoder().default()\n",
    "\n",
    "# Your data and BM25 encoding process\n",
    "# Ensure the data column is converted to a list of strings\n",
    "corpus = data['title'].tolist()  # Convert the column to a list\n",
    "\n",
    "# Fit the encoder\n",
    "encoder.fit(corpus)\n",
    "\n",
    "# Save the encoded data\n",
    "encoder.dump(\"document.json\")\n"
   ]
  },
  {
   "cell_type": "code",
   "execution_count": null,
   "metadata": {},
   "outputs": [],
   "source": [
    "encoded_docs = BM25Encoder().load(\"document.json\")"
   ]
  },
  {
   "cell_type": "code",
   "execution_count": null,
   "metadata": {},
   "outputs": [],
   "source": [
    "alpha = 0.7\n"
   ]
  },
  {
   "cell_type": "code",
   "execution_count": null,
   "metadata": {},
   "outputs": [],
   "source": [
    "from langchain_community.retrievers import PineconeHybridSearchRetriever\n",
    "retriever = PineconeHybridSearchRetriever(index=index, sparse_encoder=encoded_docs, embeddings=embeddings , top_k=30 , alpha = 0.8)"
   ]
  },
  {
   "cell_type": "code",
   "execution_count": null,
   "metadata": {},
   "outputs": [
    {
     "data": {
      "text/plain": [
       "PineconeHybridSearchRetriever(embeddings=OllamaEmbeddings(model='llama3.2', base_url=None, client_kwargs={}), sparse_encoder=<pinecone_text.sparse.bm25_encoder.BM25Encoder object at 0x00000167E712A510>, index=<pinecone.data.index.Index object at 0x00000167E7197350>, top_k=30, alpha=0.8)"
      ]
     },
     "execution_count": 36,
     "metadata": {},
     "output_type": "execute_result"
    }
   ],
   "source": [
    "retriever"
   ]
  },
  {
   "cell_type": "code",
   "execution_count": null,
   "metadata": {},
   "outputs": [],
   "source": [
    "retriever.add_texts(\n",
    "    corpus\n",
    ")"
   ]
  },
  {
   "cell_type": "code",
   "execution_count": null,
   "metadata": {},
   "outputs": [],
   "source": [
    "input_text = \"Denik Micheal jagran\""
   ]
  },
  {
   "cell_type": "code",
   "execution_count": null,
   "metadata": {},
   "outputs": [],
   "source": [
    "documents=retriever.invoke(input_text)"
   ]
  },
  {
   "cell_type": "code",
   "execution_count": null,
   "metadata": {},
   "outputs": [
    {
     "data": {
      "text/plain": [
       "[Document(metadata={'score': 0.733466625}, page_content='krisak jagran'),\n",
       " Document(metadata={'score': 0.713007212}, page_content='jan jagran'),\n",
       " Document(metadata={'score': 0.692169785}, page_content='shosit jagran'),\n",
       " Document(metadata={'score': 0.676369071}, page_content='swadeep jagran'),\n",
       " Document(metadata={'score': 0.674885869}, page_content='pal jagran'),\n",
       " Document(metadata={'score': 0.672016263}, page_content='maruthar jagran'),\n",
       " Document(metadata={'score': 0.669668317}, page_content='chaitanya jagran'),\n",
       " Document(metadata={'score': 0.66942966}, page_content='satat jagran'),\n",
       " Document(metadata={'score': 0.667033792}, page_content='vasundhara jagran'),\n",
       " Document(metadata={'score': 0.662713408}, page_content='brahman jagran'),\n",
       " Document(metadata={'score': 0.661280036}, page_content='india samikaran'),\n",
       " Document(metadata={'score': 0.659001946}, page_content='kaurav jagran'),\n",
       " Document(metadata={'score': 0.658042908}, page_content='kishan jagran'),\n",
       " Document(metadata={'score': 0.657866359}, page_content='abhyudaya jagran'),\n",
       " Document(metadata={'score': 0.657675385}, page_content='lok jagran'),\n",
       " Document(metadata={'score': 0.654663205}, page_content='lakshya jagran'),\n",
       " Document(metadata={'score': 0.653990149}, page_content='navswar jagran'),\n",
       " Document(metadata={'score': 0.65024662}, page_content='shrutlekh jagran'),\n",
       " Document(metadata={'score': 0.649460077}, page_content='aagaj jagran'),\n",
       " Document(metadata={'score': 0.645275}, page_content='ginvani jagran'),\n",
       " Document(metadata={'score': 0.644081593}, page_content='manohar jagran'),\n",
       " Document(metadata={'score': 0.643947363}, page_content='sewak jagran'),\n",
       " Document(metadata={'score': 0.643598676}, page_content='rastra jagran'),\n",
       " Document(metadata={'score': 0.641872644}, page_content='nandigiram jagran'),\n",
       " Document(metadata={'score': 0.640292525}, page_content='khatik jagran'),\n",
       " Document(metadata={'score': 0.639989734}, page_content='sandhya jagran'),\n",
       " Document(metadata={'score': 0.638117433}, page_content='vindhyavashini jagran'),\n",
       " Document(metadata={'score': 0.637668192}, page_content='jagran khet khalihan'),\n",
       " Document(metadata={'score': 0.634611249}, page_content='balmik jagran'),\n",
       " Document(metadata={'score': 0.634379923}, page_content='pal kshatriya jagran')]"
      ]
     },
     "execution_count": 77,
     "metadata": {},
     "output_type": "execute_result"
    }
   ],
   "source": [
    "documents"
   ]
  },
  {
   "cell_type": "code",
   "execution_count": null,
   "metadata": {},
   "outputs": [
    {
     "name": "stdout",
     "output_type": "stream",
     "text": [
      "Title: kishan jagran, Similarity: 66.66666666666667%\n",
      "Title: krisak jagran, Similarity: 60.60606060606061%\n",
      "Title: khatik jagran, Similarity: 60.60606060606061%\n",
      "Title: pal jagran, Similarity: 60.0%\n",
      "Title: nandigiram jagran, Similarity: 59.45945945945945%\n",
      "Title: swadeep jagran, Similarity: 58.82352941176471%\n",
      "Title: lakshya jagran, Similarity: 58.82352941176471%\n",
      "Title: manohar jagran, Similarity: 58.82352941176471%\n",
      "Title: sandhya jagran, Similarity: 58.82352941176471%\n",
      "Title: maruthar jagran, Similarity: 57.14285714285714%\n",
      "Title: sewak jagran, Similarity: 56.25%\n",
      "Title: chaitanya jagran, Similarity: 55.55555555555556%\n",
      "Title: shrutlekh jagran, Similarity: 55.55555555555556%\n",
      "Title: kaurav jagran, Similarity: 54.54545454545454%\n",
      "Title: balmik jagran, Similarity: 54.54545454545454%\n",
      "Title: vasundhara jagran, Similarity: 54.054054054054056%\n",
      "Title: jan jagran, Similarity: 53.333333333333336%\n",
      "Title: lok jagran, Similarity: 53.333333333333336%\n",
      "Title: brahman jagran, Similarity: 52.94117647058824%\n",
      "Title: navswar jagran, Similarity: 52.94117647058824%\n",
      "Title: ginvani jagran, Similarity: 52.94117647058824%\n",
      "Title: india samikaran, Similarity: 51.42857142857142%\n",
      "Title: satat jagran, Similarity: 50.0%\n",
      "Title: abhyudaya jagran, Similarity: 50.0%\n",
      "Title: aagaj jagran, Similarity: 50.0%\n",
      "Title: pal kshatriya jagran, Similarity: 50.0%\n",
      "Title: vindhyavashini jagran, Similarity: 48.78048780487805%\n",
      "Title: shosit jagran, Similarity: 48.484848484848484%\n",
      "Title: rastra jagran, Similarity: 48.484848484848484%\n",
      "Title: jagran khet khalihan, Similarity: 40.0%\n"
     ]
    }
   ],
   "source": [
    "from rapidfuzz import fuzz\n",
    "\n",
    "\n",
    "\n",
    "\n",
    "\n",
    "# Perform fuzzy matching\n",
    "results = []\n",
    "for doc in documents:\n",
    "    similarity_score = fuzz.ratio(input_text.lower(), doc.page_content.lower())\n",
    "    results.append({'page_content': doc.page_content, 'similarity_score': similarity_score})\n",
    "\n",
    "# Sort the results by similarity score in descending order\n",
    "sorted_results = sorted(results, key=lambda x: x['similarity_score'], reverse=True)\n",
    "\n",
    "# Display all results with similarity scores in sorted order\n",
    "for result in sorted_results:\n",
    "    print(f\"Title: {result['page_content']}, Similarity: {result['similarity_score']}%\")\n"
   ]
  }
 ],
 "metadata": {
  "kernelspec": {
   "display_name": ".venv",
   "language": "python",
   "name": "python3"
  },
  "language_info": {
   "codemirror_mode": {
    "name": "ipython",
    "version": 3
   },
   "file_extension": ".py",
   "mimetype": "text/x-python",
   "name": "python",
   "nbconvert_exporter": "python",
   "pygments_lexer": "ipython3",
   "version": "3.12.4"
  }
 },
 "nbformat": 4,
 "nbformat_minor": 2
}
